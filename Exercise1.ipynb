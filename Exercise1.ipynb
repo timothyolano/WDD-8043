{
  "nbformat": 4,
  "nbformat_minor": 0,
  "metadata": {
    "colab": {
      "name": "Exercise1.ipynb",
      "provenance": [],
      "collapsed_sections": [],
      "authorship_tag": "ABX9TyPm9IX+FaktvR5iXqEwz+xk",
      "include_colab_link": true
    },
    "kernelspec": {
      "name": "python3",
      "display_name": "Python 3"
    },
    "language_info": {
      "name": "python"
    }
  },
  "cells": [
    {
      "cell_type": "markdown",
      "metadata": {
        "id": "view-in-github",
        "colab_type": "text"
      },
      "source": [
        "<a href=\"https://colab.research.google.com/github/timothyolano/WEB-DESIGN-AND-DEVELOPMENT-LAB---58043/blob/main/Exercise1.ipynb\" target=\"_parent\"><img src=\"https://colab.research.google.com/assets/colab-badge.svg\" alt=\"Open In Colab\"/></a>"
      ]
    },
    {
      "cell_type": "code",
      "execution_count": 19,
      "metadata": {
        "colab": {
          "base_uri": "https://localhost:8080/"
        },
        "id": "C1Iazr9YXeZK",
        "outputId": "1c24f509-ef93-419c-9c68-6ab2dfde935c"
      },
      "outputs": [
        {
          "output_type": "stream",
          "name": "stdout",
          "text": [
            "Please enter the radius: 4\n",
            "the area is equals to 50.24\n"
          ]
        }
      ],
      "source": [
        "pi = 3.14\n",
        "r = float (input (\"Please enter the radius: \"))  \n",
        "area = pi * r * r\n",
        "print (\"the area is equals to \", area) "
      ]
    },
    {
      "cell_type": "code",
      "source": [
        "def area(r):\n",
        "    pi = 3.14\n",
        "    area = pi * (r*r)\n",
        "    return area\n",
        "    \n",
        "radius = int(input(\"Please enter the radius: \"))\n",
        "print(\"area is \", area(radius))"
      ],
      "metadata": {
        "colab": {
          "base_uri": "https://localhost:8080/"
        },
        "id": "2o_ysFtLvJjO",
        "outputId": "63e8ee97-a416-4814-aeda-3e29a55a233d"
      },
      "execution_count": 39,
      "outputs": [
        {
          "output_type": "stream",
          "name": "stdout",
          "text": [
            "Please enter the radius: 4\n",
            "area is  50.24\n"
          ]
        }
      ]
    }
  ]
}